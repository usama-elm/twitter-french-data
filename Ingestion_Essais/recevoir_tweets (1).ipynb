{
 "cells": [
  {
   "cell_type": "code",
   "execution_count": 9,
   "id": "f8f50c99-aaf9-4317-9903-140c4a419be5",
   "metadata": {},
   "outputs": [
    {
     "name": "stdout",
     "output_type": "stream",
     "text": [
      "Requirement already satisfied: tweepy in /opt/conda/lib/python3.9/site-packages (4.8.0)\n",
      "Requirement already satisfied: requests-oauthlib<2,>=1.2.0 in /opt/conda/lib/python3.9/site-packages (from tweepy) (1.3.1)\n",
      "Requirement already satisfied: requests<3,>=2.27.0 in /opt/conda/lib/python3.9/site-packages (from tweepy) (2.27.1)\n",
      "Requirement already satisfied: oauthlib<4,>=3.2.0 in /opt/conda/lib/python3.9/site-packages (from tweepy) (3.2.0)\n",
      "Requirement already satisfied: certifi>=2017.4.17 in /opt/conda/lib/python3.9/site-packages (from requests<3,>=2.27.0->tweepy) (2021.10.8)\n",
      "Requirement already satisfied: charset-normalizer~=2.0.0 in /opt/conda/lib/python3.9/site-packages (from requests<3,>=2.27.0->tweepy) (2.0.12)\n",
      "Requirement already satisfied: idna<4,>=2.5 in /opt/conda/lib/python3.9/site-packages (from requests<3,>=2.27.0->tweepy) (3.3)\n",
      "Requirement already satisfied: urllib3<1.27,>=1.21.1 in /opt/conda/lib/python3.9/site-packages (from requests<3,>=2.27.0->tweepy) (1.26.8)\n"
     ]
    }
   ],
   "source": [
    "!pip install tweepy"
   ]
  },
  {
   "cell_type": "code",
   "execution_count": 1,
   "id": "4da049a4-b487-4eb0-8796-5fa7b5525970",
   "metadata": {},
   "outputs": [],
   "source": [
    "import tweepy\n",
    "from tweepy.auth import OAuthHandler\n",
    "from tweepy import StreamingClient\n",
    "from tweepy import Stream\n",
    "import socket\n",
    "import json"
   ]
  },
  {
   "cell_type": "code",
   "execution_count": 2,
   "id": "a793e104-5604-4084-a39c-0ae5c6d6c375",
   "metadata": {},
   "outputs": [],
   "source": [
    "consumer_key=\"PWTxFDNxBx02h7XhqHPqInO8R\"\n",
    "consumer_secret=\"A34dSopKDcx5tGneOIqNOwauorb6luGftm049uQyD3gFRNueLb\"\n",
    "bearer_token =\"AAAAAAAAAAAAAAAAAAAAAMYnagEAAAAACHOjBdpj9%2BB9Qlha2SRDJR8SSZQ%3DZfsUQNSCBAUe6cxjXDGLftQJ1a9djgXTXw4FcDXKLBgr0wXYHG\"\n",
    "access_token=\"RG42YndINVR1NHFpZnJHamZGc0w6MTpjaQ\"\n",
    "access_secret=\"zfzIuX9nYaUxrwPK0qy_1f0HgwiDnO2Dzn_Ojb1yV7sae9QfFe\""
   ]
  },
  {
   "cell_type": "code",
   "execution_count": 3,
   "id": "6dfe285d-2b81-4577-8207-df2de9dc1a46",
   "metadata": {},
   "outputs": [],
   "source": [
    "# we create this class that inherits from the StreamListener in tweepy StreamListener\n",
    "class TweetsListener(tweepy.StreamingClient):\n",
    "\n",
    "    def __init__(self, csocket):\n",
    "        self.client_socket = csocket\n",
    "    # we override the on_data() function in StreamListener\n",
    "    def on_data(self, data):\n",
    "        try:\n",
    "            message = json.loads( data )\n",
    "            print( message['text'].encode('utf-8') )\n",
    "            self.client_socket.send( message['text'].encode('utf-8') )\n",
    "            return True\n",
    "        except BaseException as e:\n",
    "            print(\"Error on_data: %s\" % str(e))\n",
    "        return True\n",
    "\n",
    "    def if_error(self, status):\n",
    "        print(status)\n",
    "        return True"
   ]
  },
  {
   "cell_type": "code",
   "execution_count": 4,
   "id": "0442ddd7-8efb-4c4c-aa53-14037d4ca645",
   "metadata": {},
   "outputs": [],
   "source": [
    "def send_tweets(c_socket):\n",
    "    \n",
    "    twitter_stream = StreamingClient(bearer_token, TweetsListener(c_socket))\n",
    "    twitter_stream.filter(track=['ETH']) #we are interested in this topic."
   ]
  },
  {
   "cell_type": "code",
   "execution_count": 5,
   "id": "2f78023b-522f-4095-82a0-f3d5513fe8c7",
   "metadata": {},
   "outputs": [
    {
     "name": "stdout",
     "output_type": "stream",
     "text": [
      "Now listening on port: 5575\n",
      "Received request from: ('127.0.0.1', 53208)\n"
     ]
    },
    {
     "ename": "TypeError",
     "evalue": "__init__() takes 2 positional arguments but 3 were given",
     "output_type": "error",
     "traceback": [
      "\u001b[0;31m\u001b[0m",
      "\u001b[0;31mTypeError\u001b[0mTraceback (most recent call last)",
      "Input \u001b[0;32mIn [5]\u001b[0m, in \u001b[0;36m<module>\u001b[0;34m\u001b[0m\n\u001b[1;32m     12\u001b[0m \u001b[38;5;28mprint\u001b[39m(\u001b[38;5;124m\"\u001b[39m\u001b[38;5;124mReceived request from: \u001b[39m\u001b[38;5;124m\"\u001b[39m \u001b[38;5;241m+\u001b[39m \u001b[38;5;28mstr\u001b[39m(addr))\n\u001b[1;32m     13\u001b[0m \u001b[38;5;66;03m# and after accepting the connection, we aill sent the tweets through the socket\u001b[39;00m\n\u001b[0;32m---> 14\u001b[0m \u001b[43msend_tweets\u001b[49m\u001b[43m(\u001b[49m\u001b[43mc\u001b[49m\u001b[43m)\u001b[49m\n",
      "Input \u001b[0;32mIn [4]\u001b[0m, in \u001b[0;36msend_tweets\u001b[0;34m(c_socket)\u001b[0m\n\u001b[1;32m      1\u001b[0m \u001b[38;5;28;01mdef\u001b[39;00m \u001b[38;5;21msend_tweets\u001b[39m(c_socket):\n\u001b[0;32m----> 3\u001b[0m     twitter_stream \u001b[38;5;241m=\u001b[39m \u001b[43mStreamingClient\u001b[49m\u001b[43m(\u001b[49m\u001b[43mbearer_token\u001b[49m\u001b[43m,\u001b[49m\u001b[43m \u001b[49m\u001b[43mTweetsListener\u001b[49m\u001b[43m(\u001b[49m\u001b[43mc_socket\u001b[49m\u001b[43m)\u001b[49m\u001b[43m)\u001b[49m\n\u001b[1;32m      4\u001b[0m     twitter_stream\u001b[38;5;241m.\u001b[39mfilter(track\u001b[38;5;241m=\u001b[39m[\u001b[38;5;124m'\u001b[39m\u001b[38;5;124mETH\u001b[39m\u001b[38;5;124m'\u001b[39m])\n",
      "\u001b[0;31mTypeError\u001b[0m: __init__() takes 2 positional arguments but 3 were given"
     ]
    }
   ],
   "source": [
    "if __name__ == \"__main__\":\n",
    "    new_skt = socket.socket()         # initiate a socket object\n",
    "    host = \"127.0.0.1\"     # local machine address\n",
    "    port = 5575                 # specific port for your service.\n",
    "    new_skt.bind((host, port))        # Binding host and port\n",
    "\n",
    "    print(\"Now listening on port: %s\" % str(port))\n",
    "\n",
    "    new_skt.listen(5)                 #  waiting for client connection.\n",
    "    c, addr = new_skt.accept()        # Establish connection with client. it returns first a socket object,c, and the address bound to the socket\n",
    "\n",
    "    print(\"Received request from: \" + str(addr))\n",
    "    # and after accepting the connection, we aill sent the tweets through the socket\n",
    "    send_tweets(c)"
   ]
  },
  {
   "cell_type": "code",
   "execution_count": null,
   "id": "69ac864e-77aa-4751-81d6-edf755467640",
   "metadata": {},
   "outputs": [],
   "source": []
  }
 ],
 "metadata": {
  "kernelspec": {
   "display_name": "Python 3 (ipykernel)",
   "language": "python",
   "name": "python3"
  },
  "language_info": {
   "codemirror_mode": {
    "name": "ipython",
    "version": 3
   },
   "file_extension": ".py",
   "mimetype": "text/x-python",
   "name": "python",
   "nbconvert_exporter": "python",
   "pygments_lexer": "ipython3",
   "version": "3.9.10"
  }
 },
 "nbformat": 4,
 "nbformat_minor": 5
}
