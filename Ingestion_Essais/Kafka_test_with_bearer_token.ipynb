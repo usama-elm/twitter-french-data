{
 "cells": [
  {
   "cell_type": "code",
   "execution_count": 5,
   "id": "381e9174-08b7-46d5-b37b-ce13e7518f33",
   "metadata": {},
   "outputs": [
    {
     "name": "stdout",
     "output_type": "stream",
     "text": [
      "Collecting python-dotenv\n",
      "  Downloading python_dotenv-0.20.0-py3-none-any.whl (17 kB)\n",
      "Installing collected packages: python-dotenv\n",
      "Successfully installed python-dotenv-0.20.0\n"
     ]
    }
   ],
   "source": [
    "!pip install python-dotenv"
   ]
  },
  {
   "cell_type": "code",
   "execution_count": 6,
   "id": "941356dc-a634-4a00-9c91-10ead301b0fc",
   "metadata": {},
   "outputs": [
    {
     "name": "stdout",
     "output_type": "stream",
     "text": [
      "Collecting pykafka\n",
      "  Downloading pykafka-2.8.0.tar.gz (141 kB)\n",
      "\u001b[2K     \u001b[90m━━━━━━━━━━━━━━━━━━━━━━━━━━━━━━━━━━━━━━\u001b[0m \u001b[32m141.6/141.6 KB\u001b[0m \u001b[31m10.8 kB/s\u001b[0m eta \u001b[36m0:00:00\u001b[0ma \u001b[36m0:00:01\u001b[0m\n",
      "\u001b[?25h  Preparing metadata (setup.py) ... \u001b[?25ldone\n",
      "\u001b[?25hRequirement already satisfied: six>=1.5 in /opt/conda/lib/python3.9/site-packages (from pykafka) (1.16.0)\n",
      "Collecting kazoo==2.5.0\n",
      "  Downloading kazoo-2.5.0-py2.py3-none-any.whl (129 kB)\n",
      "\u001b[2K     \u001b[90m━━━━━━━━━━━━━━━━━━━━━━━━━━━━━━━━━━━━━━━\u001b[0m \u001b[32m129.4/129.4 KB\u001b[0m \u001b[31m8.4 kB/s\u001b[0m eta \u001b[36m0:00:00\u001b[0ma \u001b[36m0:00:01\u001b[0m\n",
      "\u001b[?25hCollecting tabulate\n",
      "  Downloading tabulate-0.8.9-py3-none-any.whl (25 kB)\n",
      "Building wheels for collected packages: pykafka\n",
      "  Building wheel for pykafka (setup.py) ... \u001b[?25ldone\n",
      "\u001b[?25h  Created wheel for pykafka: filename=pykafka-2.8.0-py2.py3-none-any.whl size=171529 sha256=b36aeb036bee625cb5323d779539b17ff69a46b40ce4f46e041bcb7021d2723a\n",
      "  Stored in directory: /home/jovyan/.cache/pip/wheels/51/65/7d/c070f8c10303d19698a207748649ff73e7d8a165dc3e126b9f\n",
      "Successfully built pykafka\n",
      "Installing collected packages: tabulate, kazoo, pykafka\n",
      "Successfully installed kazoo-2.5.0 pykafka-2.8.0 tabulate-0.8.9\n",
      "Note: you may need to restart the kernel to use updated packages.\n"
     ]
    }
   ],
   "source": [
    "pip install pykafka"
   ]
  },
  {
   "cell_type": "code",
   "execution_count": 1,
   "id": "e126680d-5797-4985-bec3-38b9262edb19",
   "metadata": {},
   "outputs": [],
   "source": [
    "from dotenv import load_dotenv\n",
    "import os\n",
    "import json\n",
    "import tweepy\n",
    "from pykafka import KafkaClient"
   ]
  },
  {
   "cell_type": "code",
   "execution_count": 2,
   "id": "96479ca8-b837-4abf-a8f3-491ab3aec0ec",
   "metadata": {},
   "outputs": [],
   "source": [
    "import tweepy\n",
    "from tweepy.auth import OAuthHandler\n",
    "from tweepy import StreamingClient\n",
    "from tweepy import Stream\n",
    "import socket\n",
    "import json"
   ]
  },
  {
   "cell_type": "code",
   "execution_count": 3,
   "id": "94fdc8b4-baef-4c64-9ba7-1b0cad9acdfa",
   "metadata": {},
   "outputs": [],
   "source": [
    "consumer_key=\"PWTxFDNxBx02h7XhqHPqInO8R\"\n",
    "consumer_secret=\"A34dSopKDcx5tGneOIqNOwauorb6luGftm049uQyD3gFRNueLb\"\n",
    "bearer_token =\"AAAAAAAAAAAAAAAAAAAAAMYnagEAAAAACHOjBdpj9%2BB9Qlha2SRDJR8SSZQ%3DZfsUQNSCBAUe6cxjXDGLftQJ1a9djgXTXw4FcDXKLBgr0wXYHG\"\n",
    "access_token=\"RG42YndINVR1NHFpZnJHamZGc0w6MTpjaQ\"\n",
    "access_secret=\"zfzIuX9nYaUxrwPK0qy_1f0HgwiDnO2Dzn_Ojb1yV7sae9QfFe\""
   ]
  },
  {
   "cell_type": "code",
   "execution_count": 4,
   "id": "28512617-e0a2-4c45-b8a8-e5a005d24de7",
   "metadata": {},
   "outputs": [],
   "source": [
    "# Getting credentials:\n",
    "\n",
    "BEARER_TOKEN=os.getenv(\"bearer_token\")\n",
    "\n",
    "# Setting up pykafka:\n",
    "\n",
    "def get_kafka_client():\n",
    "    return KafkaClient(hosts='localhost:5505,localhost:5506,localhost:5507')"
   ]
  },
  {
   "cell_type": "code",
   "execution_count": 5,
   "id": "9a02ab4f-7933-45e4-9849-50f9789d14a4",
   "metadata": {},
   "outputs": [],
   "source": [
    "def send_message(data, name_topic, id):    \n",
    "    client = get_kafka_client()\n",
    "    topic = client.topics[name_topic]\n",
    "    producer = topic.get_sync_producer()\n",
    "    producer.produce(data, partition_key=f\"{name_topic[:2].upper()}{id}\".encode())\n",
    "\n"
   ]
  },
  {
   "cell_type": "code",
   "execution_count": 6,
   "id": "be64e8cb-a71a-482d-95fb-3fa1f88e0927",
   "metadata": {},
   "outputs": [],
   "source": [
    "# Creating a Twitter stream listener:\n",
    "\n",
    "class Listener(tweepy.StreamingClient):\n",
    "\n",
    "    def on_data(self, data):\n",
    "        print(data)\n",
    "        message = json.loads(data)\n",
    "        for rule in message['matching_rules']:\n",
    "            send_message(data, rule['tag'], message['data']['id'])\n",
    "        return True\n",
    "    \n",
    "    def on_error(self, status):\n",
    "        print(status)\n"
   ]
  },
  {
   "cell_type": "code",
   "execution_count": null,
   "id": "bf09efed-dd6a-4c57-82a2-d272b467c8fe",
   "metadata": {},
   "outputs": [
    {
     "name": "stderr",
     "output_type": "stream",
     "text": [
      "Stream encountered HTTP error: 409\n",
      "Stream encountered HTTP error: 409\n",
      "Stream encountered HTTP error: 409\n",
      "Stream encountered HTTP error: 409\n",
      "Stream encountered HTTP error: 409\n",
      "Stream encountered HTTP error: 409\n",
      "Stream encountered HTTP error: 409\n",
      "Stream encountered HTTP error: 409\n",
      "Stream encountered HTTP error: 409\n",
      "Stream encountered HTTP error: 409\n",
      "Stream encountered HTTP error: 409\n",
      "Stream encountered HTTP error: 409\n",
      "Stream encountered HTTP error: 409\n",
      "Stream encountered HTTP error: 409\n",
      "Stream encountered HTTP error: 409\n",
      "Stream encountered HTTP error: 409\n",
      "Stream encountered HTTP error: 409\n",
      "Stream encountered HTTP error: 409\n",
      "Stream encountered HTTP error: 409\n",
      "Stream encountered HTTP error: 409\n",
      "Stream encountered HTTP error: 409\n",
      "Stream encountered HTTP error: 409\n",
      "Stream encountered HTTP error: 409\n",
      "Stream encountered HTTP error: 409\n",
      "Stream encountered HTTP error: 409\n",
      "Stream encountered HTTP error: 409\n",
      "Stream encountered HTTP error: 409\n",
      "Stream encountered HTTP error: 409\n",
      "Stream encountered HTTP error: 409\n",
      "Stream encountered HTTP error: 409\n",
      "Stream encountered HTTP error: 409\n",
      "Stream encountered HTTP error: 409\n",
      "Stream encountered HTTP error: 409\n",
      "Stream encountered HTTP error: 409\n",
      "Stream encountered HTTP error: 409\n",
      "Stream encountered HTTP error: 409\n",
      "Stream encountered HTTP error: 409\n",
      "Stream encountered HTTP error: 409\n",
      "Stream encountered HTTP error: 409\n",
      "Stream encountered HTTP error: 409\n",
      "Stream encountered HTTP error: 409\n",
      "Stream encountered HTTP error: 409\n",
      "Stream encountered HTTP error: 409\n",
      "Stream encountered HTTP error: 409\n",
      "Stream encountered HTTP error: 409\n",
      "Stream encountered HTTP error: 409\n",
      "Stream encountered HTTP error: 409\n",
      "Stream encountered HTTP error: 409\n",
      "Stream encountered HTTP error: 409\n",
      "Stream encountered HTTP error: 409\n",
      "Stream encountered HTTP error: 409\n",
      "Stream encountered HTTP error: 409\n"
     ]
    }
   ],
   "source": [
    "\n",
    "# Start streaming:\n",
    "\n",
    "Listener(bearer_token).filter()"
   ]
  },
  {
   "cell_type": "code",
   "execution_count": null,
   "id": "ab7b867c-d280-49ea-92df-dc615df11c6c",
   "metadata": {},
   "outputs": [],
   "source": []
  },
  {
   "cell_type": "code",
   "execution_count": null,
   "id": "cc9e9147-3dcd-46d8-bbc7-e8f39ea16b8a",
   "metadata": {},
   "outputs": [],
   "source": []
  }
 ],
 "metadata": {
  "kernelspec": {
   "display_name": "Python 3 (ipykernel)",
   "language": "python",
   "name": "python3"
  },
  "language_info": {
   "codemirror_mode": {
    "name": "ipython",
    "version": 3
   },
   "file_extension": ".py",
   "mimetype": "text/x-python",
   "name": "python",
   "nbconvert_exporter": "python",
   "pygments_lexer": "ipython3",
   "version": "3.9.10"
  }
 },
 "nbformat": 4,
 "nbformat_minor": 5
}
