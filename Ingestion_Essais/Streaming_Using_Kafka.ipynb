{
 "cells": [
  {
   "cell_type": "code",
   "execution_count": 1,
   "id": "d1057f72-fea8-4af7-9aaa-be1bdbd28b57",
   "metadata": {},
   "outputs": [
    {
     "name": "stdout",
     "output_type": "stream",
     "text": [
      "Requirement already satisfied: kafka-python in /opt/conda/lib/python3.9/site-packages (2.0.2)\n"
     ]
    }
   ],
   "source": [
    "!pip install kafka-python"
   ]
  },
  {
   "cell_type": "code",
   "execution_count": 2,
   "id": "9d24b55f-354c-42a0-80c2-64919de9bd0f",
   "metadata": {},
   "outputs": [
    {
     "name": "stdout",
     "output_type": "stream",
     "text": [
      "Requirement already satisfied: tweepy in /opt/conda/lib/python3.9/site-packages (4.8.0)\n",
      "Requirement already satisfied: requests<3,>=2.27.0 in /opt/conda/lib/python3.9/site-packages (from tweepy) (2.27.1)\n",
      "Requirement already satisfied: requests-oauthlib<2,>=1.2.0 in /opt/conda/lib/python3.9/site-packages (from tweepy) (1.3.1)\n",
      "Requirement already satisfied: oauthlib<4,>=3.2.0 in /opt/conda/lib/python3.9/site-packages (from tweepy) (3.2.0)\n",
      "Requirement already satisfied: charset-normalizer~=2.0.0 in /opt/conda/lib/python3.9/site-packages (from requests<3,>=2.27.0->tweepy) (2.0.12)\n",
      "Requirement already satisfied: certifi>=2017.4.17 in /opt/conda/lib/python3.9/site-packages (from requests<3,>=2.27.0->tweepy) (2021.10.8)\n",
      "Requirement already satisfied: idna<4,>=2.5 in /opt/conda/lib/python3.9/site-packages (from requests<3,>=2.27.0->tweepy) (3.3)\n",
      "Requirement already satisfied: urllib3<1.27,>=1.21.1 in /opt/conda/lib/python3.9/site-packages (from requests<3,>=2.27.0->tweepy) (1.26.8)\n"
     ]
    }
   ],
   "source": [
    "!pip install tweepy"
   ]
  },
  {
   "cell_type": "code",
   "execution_count": 1,
   "id": "8cfa07ec-1796-4e1f-8baa-4e46864d057b",
   "metadata": {},
   "outputs": [],
   "source": [
    "import tweepy\n",
    "from tweepy.auth import OAuthHandler\n",
    "from tweepy import StreamingClient\n",
    "from tweepy import Stream\n",
    "import socket\n",
    "import json"
   ]
  },
  {
   "cell_type": "code",
   "execution_count": 2,
   "id": "07e2fdc9-ecbb-4833-a1ab-083ab3e5cbaf",
   "metadata": {},
   "outputs": [],
   "source": [
    "consumer_key=\"PWTxFDNxBx02h7XhqHPqInO8R\"\n",
    "consumer_secret=\"A34dSopKDcx5tGneOIqNOwauorb6luGftm049uQyD3gFRNueLb\"\n",
    "bearer_token =\"AAAAAAAAAAAAAAAAAAAAAMYnagEAAAAACHOjBdpj9%2BB9Qlha2SRDJR8SSZQ%3DZfsUQNSCBAUe6cxjXDGLftQJ1a9djgXTXw4FcDXKLBgr0wXYHG\"\n",
    "access_token=\"RG42YndINVR1NHFpZnJHamZGc0w6MTpjaQ\"\n",
    "access_secret=\"zfzIuX9nYaUxrwPK0qy_1f0HgwiDnO2Dzn_Ojb1yV7sae9QfFe\"\n",
    "\n",
    "list_follow = []\n",
    "list_track = []"
   ]
  },
  {
   "cell_type": "code",
   "execution_count": 3,
   "id": "f08b0f2a-18a7-40ae-bb3c-79afcd993f9a",
   "metadata": {},
   "outputs": [],
   "source": [
    "# Code pour le Streaming de tweets avec Kafka\n",
    "#\n",
    "from tweepy.streaming import StreamingClient\n",
    "from tweepy.auth import OAuthHandler\n",
    "from kafka import KafkaProducer\n"
   ]
  },
  {
   "cell_type": "code",
   "execution_count": null,
   "id": "49943ddd-3b05-4936-a756-7740da078c25",
   "metadata": {},
   "outputs": [],
   "source": []
  },
  {
   "cell_type": "code",
   "execution_count": 4,
   "id": "a864cdbe-4df1-4899-a836-281a193b5aa7",
   "metadata": {},
   "outputs": [],
   "source": [
    "# Encodage utf-8 des tweets \n",
    "producer = KafkaProducer(\n",
    " value_serializer=lambda m: dumps(m).encode('utf-8'),\n",
    " bootstrap_servers=['kafka01:9092','kafka02:9092'],\n",
    " api_version=(0, 10, 1)) #Version 1.3.5 of this library (which is latest on pypi) only lists certain API versions 0.8.0 to 0.10.1. So unless you explicitly specify api_version to be (0, 10, 1) the client library's attempt to discover the version will cause a NoBrokersAvailable error.\n"
   ]
  },
  {
   "cell_type": "code",
   "execution_count": 5,
   "id": "1b006598-ee62-4f6f-bbf7-24b6b50eb6f0",
   "metadata": {},
   "outputs": [],
   "source": [
    "# Envoi des données de streaming sur le topic kafka « tweets01 »\n",
    "class StdOutListener(StreamingClient):\n",
    " def on_data(self, data):\n",
    "     producer.send(\"tweets01\", value=data)\n",
    "     date = datetime.now() \n",
    "     print(date,\"New Tweet ! (Len:\",len(data),\")\")\n",
    "     return True\n"
   ]
  },
  {
   "cell_type": "code",
   "execution_count": 7,
   "id": "3955204b-3027-4e9c-8401-11a2afd9b41f",
   "metadata": {},
   "outputs": [
    {
     "name": "stderr",
     "output_type": "stream",
     "text": [
      "Stream encountered an exception\n",
      "Traceback (most recent call last):\n",
      "  File \"/opt/conda/lib/python3.9/site-packages/tweepy/streaming.py\", line 73, in _connect\n",
      "    with self.session.request(\n",
      "  File \"/opt/conda/lib/python3.9/site-packages/requests/sessions.py\", line 515, in request\n",
      "    prep = self.prepare_request(req)\n",
      "  File \"/opt/conda/lib/python3.9/site-packages/requests/sessions.py\", line 443, in prepare_request\n",
      "    p.prepare(\n",
      "  File \"/opt/conda/lib/python3.9/site-packages/requests/models.py\", line 322, in prepare\n",
      "    self.prepare_auth(auth, url)\n",
      "  File \"/opt/conda/lib/python3.9/site-packages/requests/models.py\", line 558, in prepare_auth\n",
      "    r = auth(self)\n",
      "  File \"/opt/conda/lib/python3.9/site-packages/requests_oauthlib/oauth1_auth.py\", line 98, in __call__\n",
      "    r.url, headers, r.body = self.client.sign(\n",
      "  File \"/opt/conda/lib/python3.9/site-packages/oauthlib/oauth1/rfc5849/__init__.py\", line 351, in sign\n",
      "    ('oauth_signature', self.get_oauth_signature(request)))\n",
      "  File \"/opt/conda/lib/python3.9/site-packages/oauthlib/oauth1/rfc5849/__init__.py\", line 165, in get_oauth_signature\n",
      "    uri, headers, body = self._render(request)\n",
      "  File \"/opt/conda/lib/python3.9/site-packages/oauthlib/oauth1/rfc5849/__init__.py\", line 247, in _render\n",
      "    headers = parameters.prepare_headers(\n",
      "  File \"/opt/conda/lib/python3.9/site-packages/oauthlib/oauth1/rfc5849/utils.py\", line 25, in wrapper\n",
      "    return target(params, *args, **kwargs)\n",
      "  File \"/opt/conda/lib/python3.9/site-packages/oauthlib/oauth1/rfc5849/parameters.py\", line 53, in prepare_headers\n",
      "    escaped_value = utils.escape(value)\n",
      "  File \"/opt/conda/lib/python3.9/site-packages/oauthlib/oauth1/rfc5849/utils.py\", line 49, in escape\n",
      "    raise ValueError('Only unicode objects are escapable. ' +\n",
      "ValueError: Only unicode objects are escapable. Got <tweepy.auth.OAuthHandler object at 0x7fcbaadbcd60> of type <class 'tweepy.auth.OAuthHandler'>.\n"
     ]
    }
   ],
   "source": [
    "# Démarrage du Streaming avec Tweepy et Kafka\n",
    "listener = StdOutListener(bearer_token)\n",
    "auth = OAuthHandler(consumer_key, consumer_secret)\n",
    "auth.set_access_token(access_token, access_secret)\n",
    "twitter_stream = Stream(auth, listener, access_token, access_secret )\n",
    "twitter_stream.filter(follow=list_follow,track=list_track,languages = ['en','fr'])\n"
   ]
  },
  {
   "cell_type": "code",
   "execution_count": null,
   "id": "5db21ad2-0d50-4a04-836b-eb2207d12adc",
   "metadata": {},
   "outputs": [],
   "source": []
  }
 ],
 "metadata": {
  "kernelspec": {
   "display_name": "Python 3 (ipykernel)",
   "language": "python",
   "name": "python3"
  },
  "language_info": {
   "codemirror_mode": {
    "name": "ipython",
    "version": 3
   },
   "file_extension": ".py",
   "mimetype": "text/x-python",
   "name": "python",
   "nbconvert_exporter": "python",
   "pygments_lexer": "ipython3",
   "version": "3.9.10"
  }
 },
 "nbformat": 4,
 "nbformat_minor": 5
}
